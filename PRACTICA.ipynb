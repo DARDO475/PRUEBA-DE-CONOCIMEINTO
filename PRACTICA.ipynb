{
  "metadata": {
    "language_info": {
      "codemirror_mode": {
        "name": "python",
        "version": 3
      },
      "file_extension": ".py",
      "mimetype": "text/x-python",
      "name": "python",
      "nbconvert_exporter": "python",
      "pygments_lexer": "ipython3",
      "version": "3.8"
    },
    "kernelspec": {
      "name": "python",
      "display_name": "Python (Pyodide)",
      "language": "python"
    }
  },
  "nbformat_minor": 4,
  "nbformat": 4,
  "cells": [
    {
      "cell_type": "markdown",
      "source": "<H5>My Jupyter Notebook on IBM Watson Studio</H5>",
      "metadata": {}
    },
    {
      "cell_type": "markdown",
      "source": "**KAMILO PINEDO**\nSoy estudiante, vivo en colombia y quiero ser cientifico de datos.\n",
      "metadata": {}
    },
    {
      "cell_type": "markdown",
      "source": "*Estoy interesado en aprender cicncia de datos porque la me apasiona aprender a anipular informacion\nTambien me intereza por las buenas oportunidades laborales que hay actualmente*",
      "metadata": {}
    },
    {
      "cell_type": "markdown",
      "source": "<h3>Mi codigo debera resolver una operacion matematica de dos dos digitos</h3>",
      "metadata": {}
    },
    {
      "cell_type": "code",
      "source": "dig1 = 2\ndig2 = 5\nresultado = dig1 + dig2\nresultado",
      "metadata": {
        "trusted": true
      },
      "execution_count": 6,
      "outputs": [
        {
          "execution_count": 6,
          "output_type": "execute_result",
          "data": {
            "text/plain": "7"
          },
          "metadata": {}
        }
      ]
    },
    {
      "cell_type": "markdown",
      "source": "#PRACRICA\n\nListado de paises europeos\n   1. España\n   2. francia\n   3. Inglaterra\n   \nidioma que hablan\n   - Español\n   - Frances\n   - Ingles\n",
      "metadata": {}
    },
    {
      "cell_type": "code",
      "source": "",
      "metadata": {},
      "execution_count": null,
      "outputs": []
    }
  ]
}